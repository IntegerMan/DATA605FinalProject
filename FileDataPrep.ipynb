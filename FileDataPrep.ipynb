{
 "cells": [
  {
   "attachments": {},
   "cell_type": "markdown",
   "metadata": {},
   "source": [
    "\n",
    "# File Data Extraction\n",
    "This notebook focuses on building a CSV file out of the raw file structure on disk in a given directory"
   ]
  },
  {
   "cell_type": "code",
   "execution_count": 9,
   "metadata": {},
   "outputs": [],
   "source": [
    "# Import required libraries\n",
    "import pandas as pd\n",
    "import os"
   ]
  },
  {
   "cell_type": "code",
   "execution_count": 10,
   "metadata": {},
   "outputs": [
    {
     "name": "stdout",
     "output_type": "stream",
     "text": [
      "Working with files at C:\\Dev\\MachineLearning\n"
     ]
    }
   ],
   "source": [
    "# Path should point to the root directory of the application you're analyzing\n",
    "path = 'C:\\Dev\\MachineLearning'\n",
    "print('Working with files at ' + path)"
   ]
  },
  {
   "cell_type": "code",
   "execution_count": 11,
   "metadata": {},
   "outputs": [],
   "source": [
    "# Common source file extensions. This list is very incomplete. Intentionally not including JSON / XML\n",
    "source_extensions = ['.cs', '.vb', '.java', '.r', '.agc', '.fs', '.js', '.cpp', '.go', '.aspx', '.jsp', '.do', '.php', '.ipynb', '.sh', '.html', '.lua', '.css']\n",
    "\n",
    "def is_source_file(file_label):\n",
    "    \"\"\"\n",
    "    Defines what a source file is.\n",
    "    \"\"\"\n",
    "    file, _ = file_label\n",
    "    name, ext = os.path.splitext(file)\n",
    "    ext = ext.lower()\n",
    "    return ext in source_extensions"
   ]
  },
  {
   "cell_type": "code",
   "execution_count": 12,
   "metadata": {},
   "outputs": [],
   "source": [
    "def count_lines(path):\n",
    "    \"\"\"\n",
    "    Reads the file at the specified path and returns the number of lines in that file\n",
    "    \"\"\"\n",
    "\n",
    "    def _make_gen(reader):\n",
    "        b = reader(2 ** 16)\n",
    "        while b:\n",
    "            yield b\n",
    "            b = reader(2 ** 16)\n",
    "\n",
    "    with open(path, \"rb\") as f:\n",
    "        count = sum(buf.count(b\"\\n\") for buf in _make_gen(f.raw.read))\n",
    "\n",
    "    return count"
   ]
  },
  {
   "cell_type": "code",
   "execution_count": 13,
   "metadata": {},
   "outputs": [],
   "source": [
    "def get_file_metrics(files):\n",
    "    \"\"\"\n",
    "    This function gets all metrics for the files and returns them as a list of file detail objects\n",
    "    \"\"\"\n",
    "    results = []\n",
    "\n",
    "    for file, folders in files:\n",
    "        lines = count_lines(file) # Slow as it actually reads the file\n",
    "        _, filename = os.path.split(file)\n",
    "        _, ext = os.path.splitext(filename)\n",
    "\n",
    "        fullpath = ''\n",
    "\n",
    "        if folders != None and len(folders) > 0:\n",
    "            project = folders[0]\n",
    "            for folder in folders[1:]:\n",
    "                if len(fullpath) > 0:\n",
    "                    fullpath += '/'\n",
    "                fullpath += folder\n",
    "        else:\n",
    "            project = ''\n",
    "\n",
    "        if len(fullpath) <= 0:\n",
    "            fullpath = '.'\n",
    "\n",
    "        id = project + '/' + fullpath + '/' + filename\n",
    "\n",
    "        file_details = {\n",
    "                        'fullpath': id,\n",
    "                        'project': project,\n",
    "                        'path': fullpath,\n",
    "                        'filename': filename,\n",
    "                        'ext': ext,\n",
    "                        'lines': lines,\n",
    "                        }\n",
    "        results.append(file_details)\n",
    "\n",
    "    return results"
   ]
  },
  {
   "cell_type": "code",
   "execution_count": 14,
   "metadata": {},
   "outputs": [],
   "source": [
    "# Some directories should be ignored as their output is not helpful\n",
    "ignored_directories = ['obj', 'ndependout', 'bin', 'debug']\n",
    "\n",
    "def get_file_list(dir_path, paths=None):\n",
    "    \"\"\"\n",
    "    Gets a list of files in this this directory and all contained directories\n",
    "    \"\"\"\n",
    "\n",
    "    files = list()\n",
    "    contents = os.listdir(dir_path)\n",
    "\n",
    "    for entry in contents:\n",
    "        path = os.path.join(dir_path, entry)\n",
    "        if os.path.isdir(path):\n",
    "            # Ignore build and reporting directories\n",
    "            if entry.lower() in ignored_directories:\n",
    "                continue\n",
    "\n",
    "            # Maintain an accurate, but separate, hierarchy array\n",
    "            if paths is None:\n",
    "                p = [entry]\n",
    "            else:\n",
    "                p = paths[:]\n",
    "                p.append(entry)\n",
    "\n",
    "            files = files + get_file_list(path, p)\n",
    "        else:\n",
    "            files.append((path, paths))\n",
    "\n",
    "    return files"
   ]
  },
  {
   "cell_type": "code",
   "execution_count": 15,
   "metadata": {},
   "outputs": [],
   "source": [
    "def get_source_file_metrics(path):\n",
    "    \"\"\"\n",
    "    This function gets all source files and metrics associated with them from a given path\n",
    "    \"\"\"\n",
    "    source_files = filter(is_source_file, get_file_list(path))\n",
    "    return get_file_metrics(list(source_files))"
   ]
  },
  {
   "cell_type": "code",
   "execution_count": 22,
   "metadata": {},
   "outputs": [
    {
     "name": "stdout",
     "output_type": "stream",
     "text": [
      "1814 files read\n"
     ]
    }
   ],
   "source": [
    "# Pull Source file metrics\n",
    "files = get_source_file_metrics(path)\n",
    "print(str(len(files)) + \" files read\")"
   ]
  },
  {
   "cell_type": "code",
   "execution_count": 24,
   "metadata": {},
   "outputs": [
    {
     "data": {
      "text/html": [
       "<div>\n",
       "<style scoped>\n",
       "    .dataframe tbody tr th:only-of-type {\n",
       "        vertical-align: middle;\n",
       "    }\n",
       "\n",
       "    .dataframe tbody tr th {\n",
       "        vertical-align: top;\n",
       "    }\n",
       "\n",
       "    .dataframe thead th {\n",
       "        text-align: right;\n",
       "    }\n",
       "</style>\n",
       "<table border=\"1\" class=\"dataframe\">\n",
       "  <thead>\n",
       "    <tr style=\"text-align: right;\">\n",
       "      <th></th>\n",
       "      <th>fullpath</th>\n",
       "      <th>project</th>\n",
       "      <th>path</th>\n",
       "      <th>filename</th>\n",
       "      <th>ext</th>\n",
       "      <th>lines</th>\n",
       "    </tr>\n",
       "  </thead>\n",
       "  <tbody>\n",
       "    <tr>\n",
       "      <th>1466</th>\n",
       "      <td>test/BaselineOutput/Common/EntryPoints/core_ma...</td>\n",
       "      <td>test</td>\n",
       "      <td>BaselineOutput/Common/EntryPoints</td>\n",
       "      <td>core_manifest.json</td>\n",
       "      <td>.json</td>\n",
       "      <td>30767</td>\n",
       "    </tr>\n",
       "    <tr>\n",
       "      <th>297</th>\n",
       "      <td>src/Microsoft.Data.Analysis/PrimitiveDataFrame...</td>\n",
       "      <td>src</td>\n",
       "      <td>Microsoft.Data.Analysis</td>\n",
       "      <td>PrimitiveDataFrameColumn.BinaryOperationAPIs.E...</td>\n",
       "      <td>.cs</td>\n",
       "      <td>15886</td>\n",
       "    </tr>\n",
       "    <tr>\n",
       "      <th>300</th>\n",
       "      <td>src/Microsoft.Data.Analysis/PrimitiveDataFrame...</td>\n",
       "      <td>src</td>\n",
       "      <td>Microsoft.Data.Analysis</td>\n",
       "      <td>PrimitiveDataFrameColumn.BinaryOperators.cs</td>\n",
       "      <td>.cs</td>\n",
       "      <td>7397</td>\n",
       "    </tr>\n",
       "    <tr>\n",
       "      <th>1556</th>\n",
       "      <td>test/Microsoft.ML.Core.Tests/UnitTests/TestEnt...</td>\n",
       "      <td>test</td>\n",
       "      <td>Microsoft.ML.Core.Tests/UnitTests</td>\n",
       "      <td>TestEntryPoints.cs</td>\n",
       "      <td>.cs</td>\n",
       "      <td>6904</td>\n",
       "    </tr>\n",
       "    <tr>\n",
       "      <th>305</th>\n",
       "      <td>src/Microsoft.Data.Analysis/PrimitiveDataFrame...</td>\n",
       "      <td>src</td>\n",
       "      <td>Microsoft.Data.Analysis</td>\n",
       "      <td>PrimitiveDataFrameColumnArithmetic.cs</td>\n",
       "      <td>.cs</td>\n",
       "      <td>6863</td>\n",
       "    </tr>\n",
       "  </tbody>\n",
       "</table>\n",
       "</div>"
      ],
      "text/plain": [
       "                                               fullpath project  \\\n",
       "1466  test/BaselineOutput/Common/EntryPoints/core_ma...    test   \n",
       "297   src/Microsoft.Data.Analysis/PrimitiveDataFrame...     src   \n",
       "300   src/Microsoft.Data.Analysis/PrimitiveDataFrame...     src   \n",
       "1556  test/Microsoft.ML.Core.Tests/UnitTests/TestEnt...    test   \n",
       "305   src/Microsoft.Data.Analysis/PrimitiveDataFrame...     src   \n",
       "\n",
       "                                   path  \\\n",
       "1466  BaselineOutput/Common/EntryPoints   \n",
       "297             Microsoft.Data.Analysis   \n",
       "300             Microsoft.Data.Analysis   \n",
       "1556  Microsoft.ML.Core.Tests/UnitTests   \n",
       "305             Microsoft.Data.Analysis   \n",
       "\n",
       "                                               filename    ext  lines  \n",
       "1466                                 core_manifest.json  .json  30767  \n",
       "297   PrimitiveDataFrameColumn.BinaryOperationAPIs.E...    .cs  15886  \n",
       "300         PrimitiveDataFrameColumn.BinaryOperators.cs    .cs   7397  \n",
       "1556                                 TestEntryPoints.cs    .cs   6904  \n",
       "305               PrimitiveDataFrameColumnArithmetic.cs    .cs   6863  "
      ]
     },
     "execution_count": 24,
     "metadata": {},
     "output_type": "execute_result"
    }
   ],
   "source": [
    "# Grab the file metrics for source files and put them into a data frame\n",
    "df = pd.DataFrame(files)\n",
    "df = df.sort_values('lines', ascending=False)\n",
    "\n",
    "# Write to a file for other analyses processes\n",
    "df.to_csv('filesizes.csv')\n",
    "\n",
    "# Preview the data\n",
    "df.head()"
   ]
  }
 ],
 "metadata": {
  "kernelspec": {
   "display_name": "Python 3",
   "language": "python",
   "name": "python3"
  },
  "language_info": {
   "codemirror_mode": {
    "name": "ipython",
    "version": 3
   },
   "file_extension": ".py",
   "mimetype": "text/x-python",
   "name": "python",
   "nbconvert_exporter": "python",
   "pygments_lexer": "ipython3",
   "version": "3.8.8"
  },
  "orig_nbformat": 4,
  "vscode": {
   "interpreter": {
    "hash": "a4868653bb6f8972e87e4c446ab8a445a15b25dedb8594cc74c480f8152ea86a"
   }
  }
 },
 "nbformat": 4,
 "nbformat_minor": 2
}
