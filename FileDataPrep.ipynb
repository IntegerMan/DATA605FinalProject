{
 "cells": [
  {
   "attachments": {},
   "cell_type": "markdown",
   "metadata": {},
   "source": [
    "\n",
    "# File Data Extraction\n",
    "This notebook focuses on building a CSV file out of the raw file structure on disk in a given directory"
   ]
  },
  {
   "cell_type": "code",
   "execution_count": 95,
   "metadata": {},
   "outputs": [],
   "source": [
    "# Import required libraries\n",
    "import pandas as pd\n",
    "import os"
   ]
  },
  {
   "cell_type": "code",
   "execution_count": 96,
   "metadata": {},
   "outputs": [
    {
     "data": {
      "text/plain": [
       "['C:\\\\Dev\\\\MachineLearning\\\\src', 'C:\\\\Dev\\\\MachineLearning\\\\test']"
      ]
     },
     "execution_count": 96,
     "metadata": {},
     "output_type": "execute_result"
    }
   ],
   "source": [
    "# Path should point to the root directory of the application you're analyzing\n",
    "paths = ['C:/Dev/MachineLearning/src', 'C:/Dev/MachineLearning/test']\n",
    "paths"
   ]
  },
  {
   "cell_type": "code",
   "execution_count": 97,
   "metadata": {},
   "outputs": [],
   "source": [
    "# Common source file extensions. This list is very incomplete. Intentionally not including JSON / XML\n",
    "source_extensions = [\n",
    "    '.cs', \n",
    "    '.vb', \n",
    "    '.java', \n",
    "    '.r', \n",
    "    '.agc', \n",
    "    '.fs', \n",
    "    '.js', \n",
    "    '.cpp', \n",
    "    '.go', \n",
    "    '.aspx', \n",
    "    '.jsp', \n",
    "    '.do', \n",
    "    '.php', \n",
    "    '.ipynb', \n",
    "    '.sh', \n",
    "    '.html', \n",
    "    '.lua', \n",
    "    '.css'\n",
    "    ]\n",
    "\n",
    "def is_source_file(file_label):\n",
    "    \"\"\"\n",
    "    Defines what a source file is.\n",
    "    \"\"\"\n",
    "    file, _ = file_label\n",
    "    _, ext = os.path.splitext(file)\n",
    "    \n",
    "    return ext.lower() in source_extensions"
   ]
  },
  {
   "cell_type": "code",
   "execution_count": 98,
   "metadata": {},
   "outputs": [],
   "source": [
    "def count_lines(path):\n",
    "    \"\"\"\n",
    "    Reads the file at the specified path and returns the number of lines in that file\n",
    "    Code taken from https://stackoverflow.com/questions/845058/how-to-get-line-count-of-a-large-file-cheaply-in-python\n",
    "    \"\"\"\n",
    "\n",
    "    def _make_gen(reader):\n",
    "        b = reader(2 ** 16)\n",
    "        while b:\n",
    "            yield b\n",
    "            b = reader(2 ** 16)\n",
    "\n",
    "    with open(path, \"rb\") as f:\n",
    "        count = sum(buf.count(b\"\\n\") for buf in _make_gen(f.raw.read))\n",
    "\n",
    "    return count"
   ]
  },
  {
   "cell_type": "code",
   "execution_count": 99,
   "metadata": {},
   "outputs": [],
   "source": [
    "def get_file_metrics(files, root):\n",
    "    \"\"\"\n",
    "    This function gets all metrics for the files and returns them as a list of file detail objects\n",
    "    \"\"\"\n",
    "    results = []\n",
    "\n",
    "    for file, folders in files:\n",
    "        lines = count_lines(file) # Slow as it actually reads the file\n",
    "        _, filename = os.path.split(file)\n",
    "        _, ext = os.path.splitext(filename)\n",
    "\n",
    "        fullpath = ''\n",
    "\n",
    "        if folders != None and len(folders) > 0:\n",
    "            project = folders[0]\n",
    "            for folder in folders[1:]:\n",
    "                if len(fullpath) > 0:\n",
    "                    fullpath += '/'\n",
    "                fullpath += folder\n",
    "        else:\n",
    "            project = ''\n",
    "\n",
    "        if len(fullpath) <= 0:\n",
    "            fullpath = '.'\n",
    "\n",
    "        id = root + '/' + project + '/' + fullpath + '/' + filename\n",
    "\n",
    "        file_details = {\n",
    "                        'fullpath': id,\n",
    "                        'root': root,\n",
    "                        'project': project,\n",
    "                        'path': fullpath,\n",
    "                        'filename': filename,\n",
    "                        'ext': ext,\n",
    "                        'lines': lines,\n",
    "                        }\n",
    "        results.append(file_details)\n",
    "\n",
    "    return results"
   ]
  },
  {
   "cell_type": "code",
   "execution_count": 100,
   "metadata": {},
   "outputs": [],
   "source": [
    "# Some directories should be ignored as their output is not helpful\n",
    "ignored_directories = ['.git', '.vs', 'obj', 'ndependout', 'bin', 'debug']\n",
    "\n",
    "def get_file_list(dir_path, paths=None):\n",
    "    \"\"\"\n",
    "    Gets a list of files in this this directory and all contained directories\n",
    "    \"\"\"\n",
    "\n",
    "    files = list()\n",
    "    contents = os.listdir(dir_path)\n",
    "\n",
    "    for entry in contents:\n",
    "        path = os.path.join(dir_path, entry)\n",
    "        if os.path.isdir(path):\n",
    "            # Ignore build and reporting directories\n",
    "            if entry.lower() in ignored_directories:\n",
    "                continue\n",
    "\n",
    "            # Maintain an accurate, but separate, hierarchy array\n",
    "            if paths is None:\n",
    "                p = [entry]\n",
    "            else:\n",
    "                p = paths[:]\n",
    "                p.append(entry)\n",
    "\n",
    "            files = files + get_file_list(path, p)\n",
    "        else:\n",
    "            files.append((path, paths))\n",
    "\n",
    "    return files"
   ]
  },
  {
   "cell_type": "code",
   "execution_count": 101,
   "metadata": {},
   "outputs": [],
   "source": [
    "def get_source_file_metrics(path):\n",
    "    \"\"\"\n",
    "    This function gets all source files and metrics associated with them from a given path\n",
    "    \"\"\"\n",
    "    source_files = filter(is_source_file, get_file_list(path))\n",
    "    return get_file_metrics(list(source_files), path)"
   ]
  },
  {
   "cell_type": "code",
   "execution_count": 102,
   "metadata": {},
   "outputs": [
    {
     "name": "stdout",
     "output_type": "stream",
     "text": [
      "1476 files read\n"
     ]
    }
   ],
   "source": [
    "# Pull Source file metrics\n",
    "files = []\n",
    "for path in paths:\n",
    "    files.extend(get_source_file_metrics(path))\n",
    "\n",
    "print(str(len(files)) + \" files read\")"
   ]
  },
  {
   "cell_type": "code",
   "execution_count": 103,
   "metadata": {},
   "outputs": [
    {
     "data": {
      "text/html": [
       "<div>\n",
       "<style scoped>\n",
       "    .dataframe tbody tr th:only-of-type {\n",
       "        vertical-align: middle;\n",
       "    }\n",
       "\n",
       "    .dataframe tbody tr th {\n",
       "        vertical-align: top;\n",
       "    }\n",
       "\n",
       "    .dataframe thead th {\n",
       "        text-align: right;\n",
       "    }\n",
       "</style>\n",
       "<table border=\"1\" class=\"dataframe\">\n",
       "  <thead>\n",
       "    <tr style=\"text-align: right;\">\n",
       "      <th></th>\n",
       "      <th>fullpath</th>\n",
       "      <th>root</th>\n",
       "      <th>project</th>\n",
       "      <th>path</th>\n",
       "      <th>filename</th>\n",
       "      <th>ext</th>\n",
       "      <th>lines</th>\n",
       "    </tr>\n",
       "  </thead>\n",
       "  <tbody>\n",
       "    <tr>\n",
       "      <th>32</th>\n",
       "      <td>C:\\Dev\\MachineLearning\\src\\Microsoft.Data.Anal...</td>\n",
       "      <td>C:\\Dev\\MachineLearning\\src</td>\n",
       "      <td>Microsoft.Data.Analysis</td>\n",
       "      <td>.</td>\n",
       "      <td>PrimitiveDataFrameColumn.BinaryOperationAPIs.E...</td>\n",
       "      <td>.cs</td>\n",
       "      <td>15886</td>\n",
       "    </tr>\n",
       "    <tr>\n",
       "      <th>35</th>\n",
       "      <td>C:\\Dev\\MachineLearning\\src\\Microsoft.Data.Anal...</td>\n",
       "      <td>C:\\Dev\\MachineLearning\\src</td>\n",
       "      <td>Microsoft.Data.Analysis</td>\n",
       "      <td>.</td>\n",
       "      <td>PrimitiveDataFrameColumn.BinaryOperators.cs</td>\n",
       "      <td>.cs</td>\n",
       "      <td>7397</td>\n",
       "    </tr>\n",
       "    <tr>\n",
       "      <th>1249</th>\n",
       "      <td>C:\\Dev\\MachineLearning\\test\\Microsoft.ML.Core....</td>\n",
       "      <td>C:\\Dev\\MachineLearning\\test</td>\n",
       "      <td>Microsoft.ML.Core.Tests</td>\n",
       "      <td>UnitTests</td>\n",
       "      <td>TestEntryPoints.cs</td>\n",
       "      <td>.cs</td>\n",
       "      <td>6904</td>\n",
       "    </tr>\n",
       "    <tr>\n",
       "      <th>40</th>\n",
       "      <td>C:\\Dev\\MachineLearning\\src\\Microsoft.Data.Anal...</td>\n",
       "      <td>C:\\Dev\\MachineLearning\\src</td>\n",
       "      <td>Microsoft.Data.Analysis</td>\n",
       "      <td>.</td>\n",
       "      <td>PrimitiveDataFrameColumnArithmetic.cs</td>\n",
       "      <td>.cs</td>\n",
       "      <td>6863</td>\n",
       "    </tr>\n",
       "    <tr>\n",
       "      <th>830</th>\n",
       "      <td>C:\\Dev\\MachineLearning\\src\\Microsoft.ML.OnnxCo...</td>\n",
       "      <td>C:\\Dev\\MachineLearning\\src</td>\n",
       "      <td>Microsoft.ML.OnnxConverter</td>\n",
       "      <td>.</td>\n",
       "      <td>OnnxMl.cs</td>\n",
       "      <td>.cs</td>\n",
       "      <td>5945</td>\n",
       "    </tr>\n",
       "  </tbody>\n",
       "</table>\n",
       "</div>"
      ],
      "text/plain": [
       "                                               fullpath  \\\n",
       "32    C:\\Dev\\MachineLearning\\src\\Microsoft.Data.Anal...   \n",
       "35    C:\\Dev\\MachineLearning\\src\\Microsoft.Data.Anal...   \n",
       "1249  C:\\Dev\\MachineLearning\\test\\Microsoft.ML.Core....   \n",
       "40    C:\\Dev\\MachineLearning\\src\\Microsoft.Data.Anal...   \n",
       "830   C:\\Dev\\MachineLearning\\src\\Microsoft.ML.OnnxCo...   \n",
       "\n",
       "                             root                     project       path  \\\n",
       "32     C:\\Dev\\MachineLearning\\src     Microsoft.Data.Analysis          .   \n",
       "35     C:\\Dev\\MachineLearning\\src     Microsoft.Data.Analysis          .   \n",
       "1249  C:\\Dev\\MachineLearning\\test     Microsoft.ML.Core.Tests  UnitTests   \n",
       "40     C:\\Dev\\MachineLearning\\src     Microsoft.Data.Analysis          .   \n",
       "830    C:\\Dev\\MachineLearning\\src  Microsoft.ML.OnnxConverter          .   \n",
       "\n",
       "                                               filename  ext  lines  \n",
       "32    PrimitiveDataFrameColumn.BinaryOperationAPIs.E...  .cs  15886  \n",
       "35          PrimitiveDataFrameColumn.BinaryOperators.cs  .cs   7397  \n",
       "1249                                 TestEntryPoints.cs  .cs   6904  \n",
       "40                PrimitiveDataFrameColumnArithmetic.cs  .cs   6863  \n",
       "830                                           OnnxMl.cs  .cs   5945  "
      ]
     },
     "execution_count": 103,
     "metadata": {},
     "output_type": "execute_result"
    }
   ],
   "source": [
    "# Grab the file metrics for source files and put them into a data frame\n",
    "df = pd.DataFrame(files)\n",
    "df = df.sort_values('lines', ascending=False)\n",
    "\n",
    "# Write to a file for other analyses processes\n",
    "df.to_csv('filesizes.csv')\n",
    "\n",
    "# Preview the data\n",
    "df.head()"
   ]
  }
 ],
 "metadata": {
  "kernelspec": {
   "display_name": "Python 3",
   "language": "python",
   "name": "python3"
  },
  "language_info": {
   "codemirror_mode": {
    "name": "ipython",
    "version": 3
   },
   "file_extension": ".py",
   "mimetype": "text/x-python",
   "name": "python",
   "nbconvert_exporter": "python",
   "pygments_lexer": "ipython3",
   "version": "3.8.8"
  },
  "orig_nbformat": 4,
  "vscode": {
   "interpreter": {
    "hash": "a4868653bb6f8972e87e4c446ab8a445a15b25dedb8594cc74c480f8152ea86a"
   }
  }
 },
 "nbformat": 4,
 "nbformat_minor": 2
}
