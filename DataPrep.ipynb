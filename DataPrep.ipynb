{
 "cells": [
  {
   "attachments": {},
   "cell_type": "markdown",
   "metadata": {},
   "source": [
    "# Git Data Extraction using Python\n",
    "\n",
    "This notebook helps you load historical git data from any public git repository on GitHub"
   ]
  },
  {
   "attachments": {},
   "cell_type": "markdown",
   "metadata": {},
   "source": [
    "## Pre-requisites\n",
    "The code assumes you have the following libraries installed:\n",
    "\n",
    "- pydriller\n",
    "- pandas"
   ]
  },
  {
   "attachments": {},
   "cell_type": "markdown",
   "metadata": {},
   "source": [
    "## Part 1: Pulling Commit Data from GitHub\n",
    "\n",
    "We will use the PyDriller library to pull commit data from GitHub for a public repository and build a list of commits.\n",
    "\n",
    "This process can take a very long time depending on the size of the repository."
   ]
  },
  {
   "cell_type": "code",
   "execution_count": 3,
   "metadata": {},
   "outputs": [
    {
     "name": "stdout",
     "output_type": "stream",
     "text": [
      "Using repository https://github.com/dotnet/machinelearning\n"
     ]
    }
   ],
   "source": [
    "# We need PyDriller to pull git repository information\n",
    "from pydriller import Repository\n",
    "\n",
    "\n",
    "# Using the ML.NET public repository on GitHub\n",
    "account = 'dotnet'\n",
    "repository = 'machinelearning'\n",
    "path = 'https://github.com/' + account + '/' + repository\n",
    "repo = Repository(path)\n",
    "\n",
    "print('Using repository ' + path)"
   ]
  },
  {
   "cell_type": "code",
   "execution_count": 5,
   "metadata": {},
   "outputs": [
    {
     "ename": "ValueError",
     "evalue": "SHA b'1ecc365249e5cac5e72c66317a141298dc52f6e3' could not be resolved, git returned: b'1ecc365249e5cac5e72c66317a141298dc52f6e3 missing'",
     "output_type": "error",
     "traceback": [
      "\u001b[1;31m---------------------------------------------------------------------------\u001b[0m",
      "\u001b[1;31mValueError\u001b[0m                                Traceback (most recent call last)",
      "\u001b[1;32md:\\OneDrive\\Documents\\FU\\DATA605\\DataPrep.ipynb Cell 5\u001b[0m in \u001b[0;36m<cell line: 4>\u001b[1;34m()\u001b[0m\n\u001b[0;32m      <a href='vscode-notebook-cell:/d%3A/OneDrive/Documents/FU/DATA605/DataPrep.ipynb#W3sZmlsZQ%3D%3D?line=3'>4</a>\u001b[0m \u001b[39mfor\u001b[39;00m commit \u001b[39min\u001b[39;00m repo_commits:\n\u001b[0;32m      <a href='vscode-notebook-cell:/d%3A/OneDrive/Documents/FU/DATA605/DataPrep.ipynb#W3sZmlsZQ%3D%3D?line=4'>5</a>\u001b[0m \n\u001b[0;32m      <a href='vscode-notebook-cell:/d%3A/OneDrive/Documents/FU/DATA605/DataPrep.ipynb#W3sZmlsZQ%3D%3D?line=5'>6</a>\u001b[0m     \u001b[39m# Gather a list of files modified in the commit\u001b[39;00m\n\u001b[0;32m      <a href='vscode-notebook-cell:/d%3A/OneDrive/Documents/FU/DATA605/DataPrep.ipynb#W3sZmlsZQ%3D%3D?line=6'>7</a>\u001b[0m     files \u001b[39m=\u001b[39m []\n\u001b[1;32m----> <a href='vscode-notebook-cell:/d%3A/OneDrive/Documents/FU/DATA605/DataPrep.ipynb#W3sZmlsZQ%3D%3D?line=7'>8</a>\u001b[0m     \u001b[39mfor\u001b[39;00m f \u001b[39min\u001b[39;00m commit\u001b[39m.\u001b[39;49mmodified_files:\n\u001b[0;32m      <a href='vscode-notebook-cell:/d%3A/OneDrive/Documents/FU/DATA605/DataPrep.ipynb#W3sZmlsZQ%3D%3D?line=8'>9</a>\u001b[0m         \u001b[39mif\u001b[39;00m f\u001b[39m.\u001b[39mnew_path \u001b[39mis\u001b[39;00m \u001b[39mnot\u001b[39;00m \u001b[39mNone\u001b[39;00m:\n\u001b[0;32m     <a href='vscode-notebook-cell:/d%3A/OneDrive/Documents/FU/DATA605/DataPrep.ipynb#W3sZmlsZQ%3D%3D?line=9'>10</a>\u001b[0m             files\u001b[39m.\u001b[39mappend(f\u001b[39m.\u001b[39mnew_path) \n",
      "File \u001b[1;32mc:\\Users\\Admin\\AppData\\Local\\Programs\\Python\\Python38\\lib\\site-packages\\pydriller\\domain\\commit.py:716\u001b[0m, in \u001b[0;36mCommit.modified_files\u001b[1;34m(self)\u001b[0m\n\u001b[0;32m    709\u001b[0m \u001b[39melse\u001b[39;00m:\n\u001b[0;32m    710\u001b[0m     \u001b[39m# this is the first commit of the repo. Comparing it with git\u001b[39;00m\n\u001b[0;32m    711\u001b[0m     \u001b[39m# NULL TREE\u001b[39;00m\n\u001b[0;32m    712\u001b[0m     diff_index \u001b[39m=\u001b[39m \u001b[39mself\u001b[39m\u001b[39m.\u001b[39m_c_object\u001b[39m.\u001b[39mdiff(\n\u001b[0;32m    713\u001b[0m         NULL_TREE, paths\u001b[39m=\u001b[39m\u001b[39mNone\u001b[39;00m, create_patch\u001b[39m=\u001b[39m\u001b[39mTrue\u001b[39;00m, \u001b[39m*\u001b[39m\u001b[39m*\u001b[39moptions\n\u001b[0;32m    714\u001b[0m     )\n\u001b[1;32m--> 716\u001b[0m \u001b[39mreturn\u001b[39;00m \u001b[39mself\u001b[39;49m\u001b[39m.\u001b[39;49m_parse_diff(diff_index)\n",
      "File \u001b[1;32mc:\\Users\\Admin\\AppData\\Local\\Programs\\Python\\Python38\\lib\\site-packages\\pydriller\\domain\\commit.py:728\u001b[0m, in \u001b[0;36mCommit._parse_diff\u001b[1;34m(self, diff_index)\u001b[0m\n\u001b[0;32m    722\u001b[0m     new_path \u001b[39m=\u001b[39m diff\u001b[39m.\u001b[39mb_path\n\u001b[0;32m    723\u001b[0m     change_type \u001b[39m=\u001b[39m \u001b[39mself\u001b[39m\u001b[39m.\u001b[39m_from_change_to_modification_type(diff)\n\u001b[0;32m    725\u001b[0m     diff_and_content \u001b[39m=\u001b[39m {\n\u001b[0;32m    726\u001b[0m         \u001b[39m\"\u001b[39m\u001b[39mdiff\u001b[39m\u001b[39m\"\u001b[39m: \u001b[39mself\u001b[39m\u001b[39m.\u001b[39m_get_decoded_str(diff\u001b[39m.\u001b[39mdiff),\n\u001b[0;32m    727\u001b[0m         \u001b[39m\"\u001b[39m\u001b[39mcontent_before\u001b[39m\u001b[39m\"\u001b[39m: \u001b[39mself\u001b[39m\u001b[39m.\u001b[39m_get_undecoded_content(diff\u001b[39m.\u001b[39ma_blob),\n\u001b[1;32m--> 728\u001b[0m         \u001b[39m\"\u001b[39m\u001b[39mcontent\u001b[39m\u001b[39m\"\u001b[39m: \u001b[39mself\u001b[39;49m\u001b[39m.\u001b[39;49m_get_undecoded_content(diff\u001b[39m.\u001b[39;49mb_blob),\n\u001b[0;32m    729\u001b[0m     }\n\u001b[0;32m    731\u001b[0m     modified_files_list\u001b[39m.\u001b[39mappend(\n\u001b[0;32m    732\u001b[0m         ModifiedFile(old_path, new_path, change_type, diff_and_content)\n\u001b[0;32m    733\u001b[0m     )\n\u001b[0;32m    735\u001b[0m \u001b[39mreturn\u001b[39;00m modified_files_list\n",
      "File \u001b[1;32mc:\\Users\\Admin\\AppData\\Local\\Programs\\Python\\Python38\\lib\\site-packages\\pydriller\\domain\\commit.py:752\u001b[0m, in \u001b[0;36mCommit._get_undecoded_content\u001b[1;34m(self, blob)\u001b[0m\n\u001b[0;32m    751\u001b[0m \u001b[39mdef\u001b[39;00m \u001b[39m_get_undecoded_content\u001b[39m(\u001b[39mself\u001b[39m, blob: Optional[IndexObject]) \u001b[39m-\u001b[39m\u001b[39m>\u001b[39m Optional[\u001b[39mbytes\u001b[39m]:\n\u001b[1;32m--> 752\u001b[0m     \u001b[39mreturn\u001b[39;00m blob\u001b[39m.\u001b[39;49mdata_stream\u001b[39m.\u001b[39mread() \u001b[39mif\u001b[39;00m blob \u001b[39mis\u001b[39;00m \u001b[39mnot\u001b[39;00m \u001b[39mNone\u001b[39;00m \u001b[39melse\u001b[39;00m \u001b[39mNone\u001b[39;00m\n",
      "File \u001b[1;32mc:\\Users\\Admin\\AppData\\Local\\Programs\\Python\\Python38\\lib\\site-packages\\git\\objects\\base.py:142\u001b[0m, in \u001b[0;36mObject.data_stream\u001b[1;34m(self)\u001b[0m\n\u001b[0;32m    138\u001b[0m \u001b[39m@property\u001b[39m\n\u001b[0;32m    139\u001b[0m \u001b[39mdef\u001b[39;00m \u001b[39mdata_stream\u001b[39m(\u001b[39mself\u001b[39m) \u001b[39m-\u001b[39m\u001b[39m>\u001b[39m \u001b[39m\"\u001b[39m\u001b[39mOStream\u001b[39m\u001b[39m\"\u001b[39m:\n\u001b[0;32m    140\u001b[0m     \u001b[39m\"\"\":return:  File Object compatible stream to the uncompressed raw data of the object\u001b[39;00m\n\u001b[0;32m    141\u001b[0m \u001b[39m    :note: returned streams must be read in order\"\"\"\u001b[39;00m\n\u001b[1;32m--> 142\u001b[0m     \u001b[39mreturn\u001b[39;00m \u001b[39mself\u001b[39;49m\u001b[39m.\u001b[39;49mrepo\u001b[39m.\u001b[39;49modb\u001b[39m.\u001b[39;49mstream(\u001b[39mself\u001b[39;49m\u001b[39m.\u001b[39;49mbinsha)\n",
      "File \u001b[1;32mc:\\Users\\Admin\\AppData\\Local\\Programs\\Python\\Python38\\lib\\site-packages\\git\\db.py:45\u001b[0m, in \u001b[0;36mGitCmdObjectDB.stream\u001b[1;34m(self, binsha)\u001b[0m\n\u001b[0;32m     43\u001b[0m \u001b[39mdef\u001b[39;00m \u001b[39mstream\u001b[39m(\u001b[39mself\u001b[39m, binsha: \u001b[39mbytes\u001b[39m) \u001b[39m-\u001b[39m\u001b[39m>\u001b[39m OStream:\n\u001b[0;32m     44\u001b[0m     \u001b[39m\"\"\"For now, all lookup is done by git itself\"\"\"\u001b[39;00m\n\u001b[1;32m---> 45\u001b[0m     hexsha, typename, size, stream \u001b[39m=\u001b[39m \u001b[39mself\u001b[39;49m\u001b[39m.\u001b[39;49m_git\u001b[39m.\u001b[39;49mstream_object_data(bin_to_hex(binsha))\n\u001b[0;32m     46\u001b[0m     \u001b[39mreturn\u001b[39;00m OStream(hex_to_bin(hexsha), typename, size, stream)\n",
      "File \u001b[1;32mc:\\Users\\Admin\\AppData\\Local\\Programs\\Python\\Python38\\lib\\site-packages\\git\\cmd.py:1400\u001b[0m, in \u001b[0;36mGit.stream_object_data\u001b[1;34m(self, ref)\u001b[0m\n\u001b[0;32m   1395\u001b[0m \u001b[39m\"\"\"As get_object_header, but returns the data as a stream\u001b[39;00m\n\u001b[0;32m   1396\u001b[0m \n\u001b[0;32m   1397\u001b[0m \u001b[39m:return: (hexsha, type_string, size_as_int, stream)\u001b[39;00m\n\u001b[0;32m   1398\u001b[0m \u001b[39m:note: This method is not threadsafe, you need one independent Command instance per thread to be safe !\"\"\"\u001b[39;00m\n\u001b[0;32m   1399\u001b[0m cmd \u001b[39m=\u001b[39m \u001b[39mself\u001b[39m\u001b[39m.\u001b[39m_get_persistent_cmd(\u001b[39m\"\u001b[39m\u001b[39mcat_file_all\u001b[39m\u001b[39m\"\u001b[39m, \u001b[39m\"\u001b[39m\u001b[39mcat_file\u001b[39m\u001b[39m\"\u001b[39m, batch\u001b[39m=\u001b[39m\u001b[39mTrue\u001b[39;00m)\n\u001b[1;32m-> 1400\u001b[0m hexsha, typename, size \u001b[39m=\u001b[39m \u001b[39mself\u001b[39;49m\u001b[39m.\u001b[39;49m__get_object_header(cmd, ref)\n\u001b[0;32m   1401\u001b[0m cmd_stdout \u001b[39m=\u001b[39m cmd\u001b[39m.\u001b[39mstdout \u001b[39mif\u001b[39;00m cmd\u001b[39m.\u001b[39mstdout \u001b[39mis\u001b[39;00m \u001b[39mnot\u001b[39;00m \u001b[39mNone\u001b[39;00m \u001b[39melse\u001b[39;00m io\u001b[39m.\u001b[39mBytesIO()\n\u001b[0;32m   1402\u001b[0m \u001b[39mreturn\u001b[39;00m (hexsha, typename, size, \u001b[39mself\u001b[39m\u001b[39m.\u001b[39mCatFileContentStream(size, cmd_stdout))\n",
      "File \u001b[1;32mc:\\Users\\Admin\\AppData\\Local\\Programs\\Python\\Python38\\lib\\site-packages\\git\\cmd.py:1370\u001b[0m, in \u001b[0;36mGit.__get_object_header\u001b[1;34m(self, cmd, ref)\u001b[0m\n\u001b[0;32m   1368\u001b[0m     cmd\u001b[39m.\u001b[39mstdin\u001b[39m.\u001b[39mwrite(\u001b[39mself\u001b[39m\u001b[39m.\u001b[39m_prepare_ref(ref))\n\u001b[0;32m   1369\u001b[0m     cmd\u001b[39m.\u001b[39mstdin\u001b[39m.\u001b[39mflush()\n\u001b[1;32m-> 1370\u001b[0m     \u001b[39mreturn\u001b[39;00m \u001b[39mself\u001b[39;49m\u001b[39m.\u001b[39;49m_parse_object_header(cmd\u001b[39m.\u001b[39;49mstdout\u001b[39m.\u001b[39;49mreadline())\n\u001b[0;32m   1371\u001b[0m \u001b[39melse\u001b[39;00m:\n\u001b[0;32m   1372\u001b[0m     \u001b[39mraise\u001b[39;00m \u001b[39mValueError\u001b[39;00m(\u001b[39m\"\u001b[39m\u001b[39mcmd stdin was empty\u001b[39m\u001b[39m\"\u001b[39m)\n",
      "File \u001b[1;32mc:\\Users\\Admin\\AppData\\Local\\Programs\\Python\\Python38\\lib\\site-packages\\git\\cmd.py:1331\u001b[0m, in \u001b[0;36mGit._parse_object_header\u001b[1;34m(self, header_line)\u001b[0m\n\u001b[0;32m   1329\u001b[0m         \u001b[39mraise\u001b[39;00m \u001b[39mValueError\u001b[39;00m(\u001b[39m\"\u001b[39m\u001b[39mSHA could not be resolved, git returned: \u001b[39m\u001b[39m%r\u001b[39;00m\u001b[39m\"\u001b[39m \u001b[39m%\u001b[39m (header_line\u001b[39m.\u001b[39mstrip()))\n\u001b[0;32m   1330\u001b[0m     \u001b[39melse\u001b[39;00m:\n\u001b[1;32m-> 1331\u001b[0m         \u001b[39mraise\u001b[39;00m \u001b[39mValueError\u001b[39;00m(\u001b[39m\"\u001b[39m\u001b[39mSHA \u001b[39m\u001b[39m%s\u001b[39;00m\u001b[39m could not be resolved, git returned: \u001b[39m\u001b[39m%r\u001b[39;00m\u001b[39m\"\u001b[39m \u001b[39m%\u001b[39m (tokens[\u001b[39m0\u001b[39m], header_line\u001b[39m.\u001b[39mstrip()))\n\u001b[0;32m   1332\u001b[0m     \u001b[39m# END handle actual return value\u001b[39;00m\n\u001b[0;32m   1333\u001b[0m \u001b[39m# END error handling\u001b[39;00m\n\u001b[0;32m   1335\u001b[0m \u001b[39mif\u001b[39;00m \u001b[39mlen\u001b[39m(tokens[\u001b[39m0\u001b[39m]) \u001b[39m!=\u001b[39m \u001b[39m40\u001b[39m:\n",
      "\u001b[1;31mValueError\u001b[0m: SHA b'1ecc365249e5cac5e72c66317a141298dc52f6e3' could not be resolved, git returned: b'1ecc365249e5cac5e72c66317a141298dc52f6e3 missing'"
     ]
    }
   ],
   "source": [
    "\n",
    "\n",
    "# Loop over each PyDriller commit to transform it to a commit usable for analysis later\n",
    "# NOTE: This can take a LONG time if there are many commits\n",
    "\n",
    "commits = []\n",
    "for commit in repo.traverse_commits():\n",
    "\n",
    "    hash = commit.hash\n",
    "\n",
    "    # Gather a list of files modified in the commit\n",
    "    files = []\n",
    "    try:\n",
    "        for f in commit.modified_files:\n",
    "            if f.new_path is not None:\n",
    "                files.append(f.new_path) \n",
    "    except Exception:\n",
    "        print('Could not read files for commit ' + hash)\n",
    "        continue\n",
    "\n",
    "    # Capture information about the commit in object format so I can reference it later\n",
    "    record = {\n",
    "        'hash': hash,\n",
    "        'message': commit.msg,\n",
    "        'author_name': commit.author.name,\n",
    "        'author_email': commit.author.email,\n",
    "        'author_date': commit.author_date,\n",
    "        'author_tz': commit.author_timezone,\n",
    "        'committer_name': commit.committer.name,\n",
    "        'committer_email': commit.committer.email,\n",
    "        'committer_date': commit.committer_date,\n",
    "        'committer_tz': commit.committer_timezone,\n",
    "        'in_main': commit.in_main_branch,\n",
    "        'is_merge': commit.merge,\n",
    "        'num_deletes': commit.deletions,\n",
    "        'num_inserts': commit.insertions,\n",
    "        'net_lines': commit.insertions - commit.deletions,\n",
    "        'num_files': commit.files,\n",
    "        'branches': ', '.join(commit.branches), # Comma separated list of branches the commit is found in\n",
    "        'files': ', '.join(files), # Comma separated list of files the commit modifies\n",
    "        'parents': ', '.join(commit.parents), # Comma separated list of parents\n",
    "        # PyDriller Open Source Delta Maintainability Model (OS-DMM) stat. See https://pydriller.readthedocs.io/en/latest/deltamaintainability.html for metric definitions\n",
    "        'dmm_unit_size': commit.dmm_unit_size,\n",
    "        'dmm_unit_complexity': commit.dmm_unit_complexity,\n",
    "        'dmm_unit_interfacing': commit.dmm_unit_interfacing,\n",
    "    }\n",
    "    # Omitted: modified_files (list), project_path, project_name\n",
    "    commits.append(record)"
   ]
  },
  {
   "attachments": {},
   "cell_type": "markdown",
   "metadata": {},
   "source": [
    "## Part 2: Build a Pandas DataFrame\n",
    "Now that we have a raw list of commits available, let's translate that to a Pandas DataFrame so we can validate the data appears roughly correct before exporting"
   ]
  },
  {
   "cell_type": "code",
   "execution_count": null,
   "metadata": {},
   "outputs": [],
   "source": [
    "\n",
    "import pandas as pd\n",
    "\n",
    "# Translate this list of commits to a Pandas data frame, then export it to CSV for analysis\n",
    "df_commits = pd.DataFrame(commits)\n",
    "df_commits.head()"
   ]
  },
  {
   "attachments": {},
   "cell_type": "markdown",
   "metadata": {},
   "source": [
    "## Part 3: Export to a CSV File\n",
    "Because the commit extraction process takes a very long time, let's export the resulting data to a CSV file so we don't need to repeat it every time we need to analyze the data"
   ]
  },
  {
   "cell_type": "code",
   "execution_count": null,
   "metadata": {},
   "outputs": [],
   "source": [
    "df_commits.to_csv(repository + '_Commits.csv')"
   ]
  }
 ],
 "metadata": {
  "kernelspec": {
   "display_name": "Python 3",
   "language": "python",
   "name": "python3"
  },
  "language_info": {
   "codemirror_mode": {
    "name": "ipython",
    "version": 3
   },
   "file_extension": ".py",
   "mimetype": "text/x-python",
   "name": "python",
   "nbconvert_exporter": "python",
   "pygments_lexer": "ipython3",
   "version": "3.8.8"
  },
  "orig_nbformat": 4,
  "vscode": {
   "interpreter": {
    "hash": "a4868653bb6f8972e87e4c446ab8a445a15b25dedb8594cc74c480f8152ea86a"
   }
  }
 },
 "nbformat": 4,
 "nbformat_minor": 2
}
